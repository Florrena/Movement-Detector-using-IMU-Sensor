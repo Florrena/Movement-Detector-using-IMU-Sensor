{
 "cells": [
  {
   "cell_type": "markdown",
   "id": "ed0ae8eb",
   "metadata": {},
   "source": [
    "### 1. Merging the Jogging csv files"
   ]
  },
  {
   "cell_type": "code",
   "execution_count": null,
   "id": "4a17e020",
   "metadata": {},
   "outputs": [
    {
     "name": "stdout",
     "output_type": "stream",
     "text": [
      "      acc_x     acc_y     acc_z    gyro_x    gyro_y    gyro_z\n",
      "0  0.357490 -1.755635 -3.446212 -0.005534 -0.842769  0.062883\n",
      "1  0.315450 -1.542576 -3.552746  0.034792 -1.117266  0.116062\n",
      "2  0.171609 -1.599705 -3.320827 -0.002777 -1.416466  0.077089\n",
      "3  0.004341 -1.940428 -3.422853 -0.095568 -1.765001 -0.018726\n",
      "4  0.347839 -1.892773 -3.273548 -0.217220 -2.127393 -0.072016\n"
     ]
    }
   ],
   "source": [
    "import pandas as pd\n",
    "import os\n",
    "\n",
    "sample_dir = 'dataset/jogging' \n",
    "acc_file = os.path.join(sample_dir, 'Accelerometer.csv')\n",
    "gyro_file = os.path.join(sample_dir, 'Gyroscope.csv')\n",
    "\n",
    "acc_df = pd.read_csv(acc_file)\n",
    "gyro_df = pd.read_csv(gyro_file)\n",
    "\n",
    "acc_df.rename(columns={'x': 'acc_x', 'y': 'acc_y', 'z': 'acc_z'}, inplace=True)\n",
    "gyro_df.rename(columns={'x': 'gyro_x', 'y': 'gyro_y', 'z': 'gyro_z'}, inplace=True)\n",
    "\n",
    "merged_df = pd.merge(acc_df, gyro_df, on='time')\n",
    "merged_df = merged_df[['acc_x', 'acc_y', 'acc_z', 'gyro_x', 'gyro_y', 'gyro_z']]\n",
    "\n",
    "print(merged_df.head())\n",
    "\n"
   ]
  },
  {
   "cell_type": "code",
   "execution_count": 11,
   "id": "8df0584c",
   "metadata": {},
   "outputs": [
    {
     "name": "stdout",
     "output_type": "stream",
     "text": [
      "(3171, 5) (3171, 5)\n"
     ]
    }
   ],
   "source": [
    "print(acc_df.shape, gyro_df.shape)\n"
   ]
  },
  {
   "cell_type": "code",
   "execution_count": null,
   "id": "7a5044ee",
   "metadata": {},
   "outputs": [],
   "source": [
    "merged_df.to_csv('jogging_data.csv', index=False)"
   ]
  },
  {
   "cell_type": "markdown",
   "id": "b8e407ec",
   "metadata": {},
   "source": [
    "### 2. Merging the Running csv files"
   ]
  },
  {
   "cell_type": "code",
   "execution_count": null,
   "id": "1f0ea124",
   "metadata": {},
   "outputs": [
    {
     "name": "stdout",
     "output_type": "stream",
     "text": [
      "      acc_x     acc_y     acc_z    gyro_x    gyro_y    gyro_z\n",
      "0  0.202895 -0.667839  3.467333  0.354495 -0.678086 -0.785126\n",
      "1  1.396381  0.056079  3.780186  0.049331 -0.587680 -0.537021\n",
      "2  1.385071  0.400516  4.356801 -0.283615 -0.365620 -0.266079\n",
      "3  1.132517  0.189813  4.373556 -0.627155  0.013853  0.085820\n",
      "4  0.035402 -1.093486  3.582729 -0.803262  0.318937  0.339217\n"
     ]
    }
   ],
   "source": [
    "import pandas as pd\n",
    "import os\n",
    "\n",
    "sample_dir = 'dataset/running' \n",
    "acc_file = os.path.join(sample_dir, 'Accelerometer.csv')\n",
    "gyro_file = os.path.join(sample_dir, 'Gyroscope.csv')\n",
    "\n",
    "acc_df = pd.read_csv(acc_file)\n",
    "gyro_df = pd.read_csv(gyro_file)\n",
    "\n",
    "acc_df.rename(columns={'x': 'acc_x', 'y': 'acc_y', 'z': 'acc_z'}, inplace=True)\n",
    "gyro_df.rename(columns={'x': 'gyro_x', 'y': 'gyro_y', 'z': 'gyro_z'}, inplace=True)\n",
    "\n",
    "merged_df = pd.merge(acc_df, gyro_df, on='time')\n",
    "merged_df = merged_df[['acc_x', 'acc_y', 'acc_z', 'gyro_x', 'gyro_y', 'gyro_z']]\n",
    "\n",
    "print(merged_df.head())"
   ]
  },
  {
   "cell_type": "code",
   "execution_count": null,
   "id": "c0dc8509",
   "metadata": {},
   "outputs": [],
   "source": [
    "merged_df.to_csv('running_data.csv', index=False)"
   ]
  },
  {
   "cell_type": "markdown",
   "id": "c1219913",
   "metadata": {},
   "source": [
    "### 3. Merging the Walking csv files"
   ]
  },
  {
   "cell_type": "code",
   "execution_count": null,
   "id": "5699f41a",
   "metadata": {},
   "outputs": [
    {
     "name": "stdout",
     "output_type": "stream",
     "text": [
      "      acc_x     acc_y     acc_z    gyro_x    gyro_y    gyro_z\n",
      "0  0.042693 -1.784441  0.336893  0.110804 -0.074376  0.102657\n",
      "1 -0.001908 -1.579855 -0.242369  0.052294 -0.038513  0.108854\n",
      "2 -0.023960 -1.397642 -0.722993 -0.008995 -0.023952  0.115826\n",
      "3 -0.056374 -1.257657 -1.130061 -0.031175 -0.010533  0.100920\n",
      "4 -0.247819 -1.177400 -1.608836  0.002271  0.025864  0.061671\n"
     ]
    }
   ],
   "source": [
    "import pandas as pd\n",
    "import os\n",
    "\n",
    "sample_dir = 'dataset/walking' \n",
    "acc_file = os.path.join(sample_dir, 'Accelerometer.csv')\n",
    "gyro_file = os.path.join(sample_dir, 'Gyroscope.csv')\n",
    "\n",
    "acc_df = pd.read_csv(acc_file)\n",
    "gyro_df = pd.read_csv(gyro_file)\n",
    "\n",
    "acc_df.rename(columns={'x': 'acc_x', 'y': 'acc_y', 'z': 'acc_z'}, inplace=True)\n",
    "gyro_df.rename(columns={'x': 'gyro_x', 'y': 'gyro_y', 'z': 'gyro_z'}, inplace=True)\n",
    "\n",
    "\n",
    "merged_df = pd.merge(acc_df, gyro_df, on='time')\n",
    "merged_df = merged_df[['acc_x', 'acc_y', 'acc_z', 'gyro_x', 'gyro_y', 'gyro_z']]\n",
    "\n",
    "print(merged_df.head())"
   ]
  },
  {
   "cell_type": "code",
   "execution_count": null,
   "id": "096d8c11",
   "metadata": {},
   "outputs": [],
   "source": [
    "merged_df.to_csv('walking_data.csv', index=False)"
   ]
  },
  {
   "cell_type": "markdown",
   "id": "53706b84",
   "metadata": {},
   "source": [
    "### 4. Merging the Standing csv files"
   ]
  },
  {
   "cell_type": "code",
   "execution_count": null,
   "id": "09f74fd2",
   "metadata": {},
   "outputs": [
    {
     "name": "stdout",
     "output_type": "stream",
     "text": [
      "      acc_x     acc_y     acc_z    gyro_x    gyro_y    gyro_z\n",
      "0 -0.141179 -0.005622 -0.184336  0.046836  0.135882 -0.020974\n",
      "1 -0.103644 -0.013156 -0.247175  0.063868  0.150526 -0.021393\n",
      "2 -0.103625 -0.008917 -0.229643  0.077751  0.154029 -0.026829\n",
      "3 -0.156556 -0.013609 -0.143436  0.086387  0.148221 -0.033876\n",
      "4 -0.219340 -0.040319 -0.135926  0.092598  0.150950 -0.040606\n"
     ]
    }
   ],
   "source": [
    "import pandas as pd\n",
    "import os\n",
    "\n",
    "sample_dir = 'dataset/standing' \n",
    "acc_file = os.path.join(sample_dir, 'Accelerometer.csv')\n",
    "gyro_file = os.path.join(sample_dir, 'Gyroscope.csv')\n",
    "\n",
    "acc_df = pd.read_csv(acc_file)\n",
    "gyro_df = pd.read_csv(gyro_file)\n",
    "\n",
    "acc_df.rename(columns={'x': 'acc_x', 'y': 'acc_y', 'z': 'acc_z'}, inplace=True)\n",
    "gyro_df.rename(columns={'x': 'gyro_x', 'y': 'gyro_y', 'z': 'gyro_z'}, inplace=True)\n",
    "\n",
    "\n",
    "merged_df = pd.merge(acc_df, gyro_df, on='time')\n",
    "merged_df = merged_df[['acc_x', 'acc_y', 'acc_z', 'gyro_x', 'gyro_y', 'gyro_z']]\n",
    "\n",
    "print(merged_df.head())"
   ]
  },
  {
   "cell_type": "code",
   "execution_count": null,
   "id": "cd94384b",
   "metadata": {},
   "outputs": [],
   "source": [
    "merged_df.to_csv('standing_data.csv', index=False)"
   ]
  },
  {
   "cell_type": "markdown",
   "id": "1906ffc0",
   "metadata": {},
   "source": [
    "### 5. Cleaning and merging the final data"
   ]
  },
  {
   "cell_type": "code",
   "execution_count": 3,
   "id": "4c06f4b0",
   "metadata": {},
   "outputs": [
    {
     "name": "stdout",
     "output_type": "stream",
     "text": [
      "(12714, 7)\n"
     ]
    }
   ],
   "source": [
    "import pandas as pd\n",
    "walking_df = pd.read_csv('dataset/walking_data.csv')\n",
    "standing_df = pd.read_csv('dataset/standing_data.csv')\n",
    "jogging_df = pd.read_csv('dataset/jogging_data.csv')\n",
    "running_df = pd.read_csv('dataset/running_data.csv')\n",
    "\n",
    "# label for each activity\n",
    "walking_df['label'] = 0\n",
    "standing_df['label'] = 1\n",
    "jogging_df['label'] = 2\n",
    "running_df['label'] = 3\n",
    "\n",
    "df = pd.concat([walking_df, standing_df, jogging_df, running_df], ignore_index=True)\n",
    "\n",
    "print(df.shape)"
   ]
  },
  {
   "cell_type": "code",
   "execution_count": 22,
   "id": "8fabfd17",
   "metadata": {},
   "outputs": [
    {
     "data": {
      "text/html": [
       "<div>\n",
       "<style scoped>\n",
       "    .dataframe tbody tr th:only-of-type {\n",
       "        vertical-align: middle;\n",
       "    }\n",
       "\n",
       "    .dataframe tbody tr th {\n",
       "        vertical-align: top;\n",
       "    }\n",
       "\n",
       "    .dataframe thead th {\n",
       "        text-align: right;\n",
       "    }\n",
       "</style>\n",
       "<table border=\"1\" class=\"dataframe\">\n",
       "  <thead>\n",
       "    <tr style=\"text-align: right;\">\n",
       "      <th></th>\n",
       "      <th>acc_x</th>\n",
       "      <th>acc_y</th>\n",
       "      <th>acc_z</th>\n",
       "      <th>gyro_x</th>\n",
       "      <th>gyro_y</th>\n",
       "      <th>gyro_z</th>\n",
       "      <th>label</th>\n",
       "    </tr>\n",
       "  </thead>\n",
       "  <tbody>\n",
       "    <tr>\n",
       "      <th>0</th>\n",
       "      <td>0.042693</td>\n",
       "      <td>-1.784441</td>\n",
       "      <td>0.336893</td>\n",
       "      <td>0.110804</td>\n",
       "      <td>-0.074376</td>\n",
       "      <td>0.102657</td>\n",
       "      <td>0</td>\n",
       "    </tr>\n",
       "    <tr>\n",
       "      <th>1</th>\n",
       "      <td>-0.001908</td>\n",
       "      <td>-1.579855</td>\n",
       "      <td>-0.242369</td>\n",
       "      <td>0.052294</td>\n",
       "      <td>-0.038513</td>\n",
       "      <td>0.108854</td>\n",
       "      <td>0</td>\n",
       "    </tr>\n",
       "    <tr>\n",
       "      <th>2</th>\n",
       "      <td>-0.023960</td>\n",
       "      <td>-1.397642</td>\n",
       "      <td>-0.722993</td>\n",
       "      <td>-0.008995</td>\n",
       "      <td>-0.023952</td>\n",
       "      <td>0.115826</td>\n",
       "      <td>0</td>\n",
       "    </tr>\n",
       "    <tr>\n",
       "      <th>3</th>\n",
       "      <td>-0.056374</td>\n",
       "      <td>-1.257657</td>\n",
       "      <td>-1.130061</td>\n",
       "      <td>-0.031175</td>\n",
       "      <td>-0.010533</td>\n",
       "      <td>0.100920</td>\n",
       "      <td>0</td>\n",
       "    </tr>\n",
       "    <tr>\n",
       "      <th>4</th>\n",
       "      <td>-0.247819</td>\n",
       "      <td>-1.177400</td>\n",
       "      <td>-1.608836</td>\n",
       "      <td>0.002271</td>\n",
       "      <td>0.025864</td>\n",
       "      <td>0.061671</td>\n",
       "      <td>0</td>\n",
       "    </tr>\n",
       "    <tr>\n",
       "      <th>...</th>\n",
       "      <td>...</td>\n",
       "      <td>...</td>\n",
       "      <td>...</td>\n",
       "      <td>...</td>\n",
       "      <td>...</td>\n",
       "      <td>...</td>\n",
       "      <td>...</td>\n",
       "    </tr>\n",
       "    <tr>\n",
       "      <th>12709</th>\n",
       "      <td>-8.816778</td>\n",
       "      <td>1.533555</td>\n",
       "      <td>14.990569</td>\n",
       "      <td>-0.333696</td>\n",
       "      <td>-0.410556</td>\n",
       "      <td>0.124527</td>\n",
       "      <td>3</td>\n",
       "    </tr>\n",
       "    <tr>\n",
       "      <th>12710</th>\n",
       "      <td>-9.439850</td>\n",
       "      <td>1.326844</td>\n",
       "      <td>13.032304</td>\n",
       "      <td>-1.111633</td>\n",
       "      <td>-0.908468</td>\n",
       "      <td>-0.122703</td>\n",
       "      <td>3</td>\n",
       "    </tr>\n",
       "    <tr>\n",
       "      <th>12711</th>\n",
       "      <td>-9.726908</td>\n",
       "      <td>1.288123</td>\n",
       "      <td>7.988343</td>\n",
       "      <td>-1.418010</td>\n",
       "      <td>-1.439422</td>\n",
       "      <td>-0.327625</td>\n",
       "      <td>3</td>\n",
       "    </tr>\n",
       "    <tr>\n",
       "      <th>12712</th>\n",
       "      <td>-10.130147</td>\n",
       "      <td>2.494233</td>\n",
       "      <td>2.788957</td>\n",
       "      <td>-1.254675</td>\n",
       "      <td>-1.723237</td>\n",
       "      <td>-0.592710</td>\n",
       "      <td>3</td>\n",
       "    </tr>\n",
       "    <tr>\n",
       "      <th>12713</th>\n",
       "      <td>-11.295488</td>\n",
       "      <td>3.517115</td>\n",
       "      <td>-1.702680</td>\n",
       "      <td>-0.663647</td>\n",
       "      <td>-1.511176</td>\n",
       "      <td>-0.882430</td>\n",
       "      <td>3</td>\n",
       "    </tr>\n",
       "  </tbody>\n",
       "</table>\n",
       "<p>12714 rows × 7 columns</p>\n",
       "</div>"
      ],
      "text/plain": [
       "           acc_x     acc_y      acc_z    gyro_x    gyro_y    gyro_z  label\n",
       "0       0.042693 -1.784441   0.336893  0.110804 -0.074376  0.102657      0\n",
       "1      -0.001908 -1.579855  -0.242369  0.052294 -0.038513  0.108854      0\n",
       "2      -0.023960 -1.397642  -0.722993 -0.008995 -0.023952  0.115826      0\n",
       "3      -0.056374 -1.257657  -1.130061 -0.031175 -0.010533  0.100920      0\n",
       "4      -0.247819 -1.177400  -1.608836  0.002271  0.025864  0.061671      0\n",
       "...          ...       ...        ...       ...       ...       ...    ...\n",
       "12709  -8.816778  1.533555  14.990569 -0.333696 -0.410556  0.124527      3\n",
       "12710  -9.439850  1.326844  13.032304 -1.111633 -0.908468 -0.122703      3\n",
       "12711  -9.726908  1.288123   7.988343 -1.418010 -1.439422 -0.327625      3\n",
       "12712 -10.130147  2.494233   2.788957 -1.254675 -1.723237 -0.592710      3\n",
       "12713 -11.295488  3.517115  -1.702680 -0.663647 -1.511176 -0.882430      3\n",
       "\n",
       "[12714 rows x 7 columns]"
      ]
     },
     "execution_count": 22,
     "metadata": {},
     "output_type": "execute_result"
    }
   ],
   "source": [
    "df"
   ]
  },
  {
   "cell_type": "code",
   "execution_count": 23,
   "id": "efe63a0c",
   "metadata": {},
   "outputs": [
    {
     "name": "stdout",
     "output_type": "stream",
     "text": [
      "acc_x     0\n",
      "acc_y     0\n",
      "acc_z     0\n",
      "gyro_x    0\n",
      "gyro_y    0\n",
      "gyro_z    0\n",
      "label     0\n",
      "dtype: int64\n"
     ]
    }
   ],
   "source": [
    "print(df.isnull().sum())"
   ]
  },
  {
   "cell_type": "markdown",
   "id": "30cdb7bc",
   "metadata": {},
   "source": [
    "No null values, so I'm not dropping any rows or columns"
   ]
  },
  {
   "cell_type": "code",
   "execution_count": 5,
   "id": "eb768e36",
   "metadata": {},
   "outputs": [
    {
     "name": "stdout",
     "output_type": "stream",
     "text": [
      "label\n",
      "3    3205\n",
      "1    3180\n",
      "2    3171\n",
      "0    3158\n",
      "Name: count, dtype: int64\n"
     ]
    }
   ],
   "source": [
    "import pandas as pd\n",
    "\n",
    "print(df['label'].value_counts())\n"
   ]
  },
  {
   "cell_type": "code",
   "execution_count": 24,
   "id": "33c85293",
   "metadata": {},
   "outputs": [],
   "source": [
    "df.to_csv('dataset.csv', index=False)"
   ]
  }
 ],
 "metadata": {
  "kernelspec": {
   "display_name": "appliedml",
   "language": "python",
   "name": "python3"
  },
  "language_info": {
   "codemirror_mode": {
    "name": "ipython",
    "version": 3
   },
   "file_extension": ".py",
   "mimetype": "text/x-python",
   "name": "python",
   "nbconvert_exporter": "python",
   "pygments_lexer": "ipython3",
   "version": "3.11.11"
  }
 },
 "nbformat": 4,
 "nbformat_minor": 5
}
